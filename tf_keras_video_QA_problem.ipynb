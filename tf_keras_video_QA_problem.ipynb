{
 "cells": [
  {
   "cell_type": "markdown",
   "metadata": {},
   "source": [
    "一、采用tensorflow + keras 实现视频识别 + NLP \n"
   ]
  },
  {
   "cell_type": "code",
   "execution_count": 1,
   "metadata": {},
   "outputs": [
    {
     "name": "stderr",
     "output_type": "stream",
     "text": [
      "/home/conda3/lib/python3.6/site-packages/h5py/__init__.py:36: FutureWarning: Conversion of the second argument of issubdtype from `float` to `np.floating` is deprecated. In future, it will be treated as `np.float64 == np.dtype(float).type`.\n",
      "  from ._conv import register_converters as _register_converters\n"
     ]
    }
   ],
   "source": [
    "#导入必要库\n",
    "import os\n",
    "import h5py\n",
    "import tensorflow as tf\n",
    "import pandas as pd\n",
    "from tensorflow import keras\n",
    "from tensorflow.python.keras import layers\n",
    "from tensorflow.python.keras import applications\n",
    "from tensorflow.python.keras.applications import inception_v3 as iv\n",
    "from tensorflow.python.keras.utils import plot_model \n",
    "from tensorflow.python.keras import backend as K  \n",
    "from tensorflow.contrib.learn import learn_runner\n",
    "\n",
    "import matplotlib.pyplot as plt # plt 用于显示图片\n",
    "import matplotlib.image as mpimg # mpimg 用于读取图片\n",
    "import numpy as np\n",
    "from scipy import misc"
   ]
  },
  {
   "cell_type": "code",
   "execution_count": 2,
   "metadata": {},
   "outputs": [],
   "source": [
    "# dimensions of our images.  \n",
    "img_width, img_height = 64, 64  \n",
    "  \n",
    "train_data_dir = 'data/train'  \n",
    "validation_data_dir = 'data/validation'  \n",
    "nb_train_samples = 2000  \n",
    "nb_validation_samples = 1000  \n",
    "epochs = 30  \n",
    "batch_size = 32  \n",
    "  \n",
    "if K.image_data_format() == 'channels_first':  \n",
    "    input_shape = (3, img_width, img_height)  \n",
    "else:  \n",
    "    input_shape = (img_width, img_height, 3)  "
   ]
  },
  {
   "cell_type": "code",
   "execution_count": 3,
   "metadata": {},
   "outputs": [],
   "source": [
    "#turning frames into a vector whith pre-trained representations \n",
    "video = tf.keras.Input(shape = (None,150,150,3),name='video')  #视频输入 分辨率 150 * 150 "
   ]
  },
  {
   "cell_type": "code",
   "execution_count": 4,
   "metadata": {},
   "outputs": [],
   "source": [
    "cnn = iv.InceptionV3(weights='imagenet',include_top=False,pooling='avg') # 利用InceptionV3构建 卷积神经网络模型 \n",
    "cnn.trainable = False #设置为不可修改，因为人家经过试验这个权重是最好的，不用再修改\n",
    "frame_features = layers.TimeDistributed(cnn)(video)  #把视频的全部帧放到时间轴上，便于得到每帧的张量 \n",
    "video_vector = layers.LSTM(256)(frame_features) #导入LSTM 等到单一的矢量 "
   ]
  },
  {
   "cell_type": "code",
   "execution_count": 5,
   "metadata": {},
   "outputs": [],
   "source": [
    "#turning a sequence of words into a vector\n",
    "input_voc_size = 10000  #字典单词数量  \n",
    "question = keras.Input(shape=[100],dtype='int32',name='question')\n",
    "embedded_words = layers.Embedding(input_dim = input_voc_size, output_dim=512, input_length=100)(question)\n",
    "question_vector = layers.LSTM(256)(embedded_words)"
   ]
  },
  {
   "cell_type": "code",
   "execution_count": 6,
   "metadata": {},
   "outputs": [],
   "source": [
    "#prediction an answer word\n",
    "output_voc_size = 100\n",
    "merged = layers.concatenate([video_vector,question_vector])\n",
    "dense = layers.Dense( 128, activation = tf.nn.relu)(merged)\n",
    "output = layers.Dense(output_voc_size,activation='softmax',name=None)(dense)\n"
   ]
  },
  {
   "cell_type": "code",
   "execution_count": 7,
   "metadata": {},
   "outputs": [],
   "source": [
    "#setting up the tranining configuration \n",
    "keras_model = keras.models.Model(inputs=[video,question],outputs=output)\n"
   ]
  },
  {
   "cell_type": "code",
   "execution_count": 9,
   "metadata": {},
   "outputs": [
    {
     "name": "stdout",
     "output_type": "stream",
     "text": [
      "__________________________________________________________________________________________________\n",
      "Layer (type)                    Output Shape         Param #     Connected to                     \n",
      "==================================================================================================\n",
      "video (InputLayer)              (None, None, 150, 15 0                                            \n",
      "__________________________________________________________________________________________________\n",
      "question (InputLayer)           (None, 100)          0                                            \n",
      "__________________________________________________________________________________________________\n",
      "time_distributed_1 (TimeDistrib (None, None, 2048)   21802784    video[0][0]                      \n",
      "__________________________________________________________________________________________________\n",
      "embedding_1 (Embedding)         (None, 100, 512)     5120000     question[0][0]                   \n",
      "__________________________________________________________________________________________________\n",
      "lstm_1 (LSTM)                   (None, 256)          2360320     time_distributed_1[0][0]         \n",
      "__________________________________________________________________________________________________\n",
      "lstm_2 (LSTM)                   (None, 256)          787456      embedding_1[0][0]                \n",
      "__________________________________________________________________________________________________\n",
      "concatenate_3 (Concatenate)     (None, 512)          0           lstm_1[0][0]                     \n",
      "                                                                 lstm_2[0][0]                     \n",
      "__________________________________________________________________________________________________\n",
      "dense_1 (Dense)                 (None, 128)          65664       concatenate_3[0][0]              \n",
      "__________________________________________________________________________________________________\n",
      "dense_2 (Dense)                 (None, 100)          12900       dense_1[0][0]                    \n",
      "==================================================================================================\n",
      "Total params: 30,149,124\n",
      "Trainable params: 30,114,692\n",
      "Non-trainable params: 34,432\n",
      "__________________________________________________________________________________________________\n",
      "None\n"
     ]
    },
    {
     "name": "stderr",
     "output_type": "stream",
     "text": [
      "/home/conda3/lib/python3.6/site-packages/ipykernel_launcher.py:16: DeprecationWarning: `imresize` is deprecated!\n",
      "`imresize` is deprecated in SciPy 1.0.0, and will be removed in 1.2.0.\n",
      "Use ``skimage.transform.resize`` instead.\n",
      "  app.launch_new_instance()\n"
     ]
    },
    {
     "data": {
      "text/plain": [
       "<matplotlib.image.AxesImage at 0x7fd6994501d0>"
      ]
     },
     "execution_count": 9,
     "metadata": {},
     "output_type": "execute_result"
    },
    {
     "data": {
      "image/png": "[encoded data removed]",
      "text/plain": [
       "<matplotlib.figure.Figure at 0x7fd6b417b240>"
      ]
     },
     "metadata": {},
     "output_type": "display_data"
    }
   ],
   "source": [
    "keras_model.compile( optimizer = tf.train.AdamOptimizer(), loss='categorical_crossentropy', metrics=['accuracy'] )\n",
    "\n",
    "#vq_model.compile( optimizer = tf.train.AdamOptimizer(),\n",
    "#                   loss = tf.softmax_cross_entropy_with_logits )\n",
    "#模型训练\n",
    "#vq_model.fit(X_train, y_train, validation_data=(X_test, y_test), epochs=69, batch_size=200, verbose=2)\n",
    "\n",
    "#打印模型概要信息\n",
    "print(keras_model.summary())\n",
    "#interpretation model (保存模型网络结构图)\n",
    "plot_model(keras_model, to_file='tf_keras_multiple_inputs.png')\n",
    "\n",
    "#读取网络结构图片\n",
    "png = mpimg.imread('tf_keras_multiple_inputs.png')\n",
    "#图片缩放\n",
    "big_png = misc.imresize(png, 0.5 )\n",
    "#关闭坐标\n",
    "plt.axis('off') #关闭坐标\n",
    "\n",
    "#显示图片\n",
    "plt.imshow(big_png) \n"
   ]
  },
  {
   "cell_type": "code",
   "execution_count": 85,
   "metadata": {},
   "outputs": [],
   "source": [
    "# Leveraging Experiment for distributed training\n",
    "\n",
    "def experiment_fn( ):         \n",
    "       \n",
    "    #模型转换 (keras ---> tensoflow )\n",
    "    model_dir = os.path.join(os.path.dirname(os.path.abspath('home')), 'train')\n",
    "    est_model = tf.keras.estimator.model_to_estimator(keras_model, model_dir=model_dir)\n",
    "    \n",
    "    #estimator = tf.estimator.Estimator(model_fn = est_model,params = hparams , config = run_config ) \n",
    "    #estimator =model.get_estimator(run_config,hparam )\n",
    "    estimator = est_model\n",
    "    \n",
    "    # 下载视频数据集（京东万象）  也可以直接通过其他方式下载，该步骤可省略\n",
    "    #dataset = tf.keras.utils.get_file( fname=\"train0001.rar\",\n",
    "    #                                   origin=\"https://wx.jdcloud.com/market/packet/10465/train0001.rar\",\n",
    "    #                                   extract = True )        \n",
    "       \n",
    "    # Setup data loaders---You Tube dataset     \n",
    "        \n",
    "    #train_input_fn, train_input_hook = get_train_inputs( hparams.train_batch_size,hparams.dataset_dir,hparams.dataset_file_pattern)    \n",
    "    #eval_input_fn, eval_input_hook = get_val_inputs( hparams.eval_batch_size,hparams.dataset_dir,hparams.dataset_file_pattern)    \n",
    "    #training_set = pd.read_csv(\"boston_train.csv\", skipinitialspace=True, skiprows=1, names=COLUMNS)\n",
    "    #test_set =     pd.read_csv(\"boston_test.csv\", skipinitialspace=True,skiprows=1, names=COLUMNS)\n",
    "    #prediction_set = pd.read_csv(\"boston_predict.csv\", skipinitialspace=True,skiprows=1, names=COLUMNS)\n",
    "    \n",
    "    \n",
    "    def get_input_fn(data_set, num_epochs=None, shuffle=True):\n",
    "          return tf.estimator.inputs.pandas_input_fn(\n",
    "          x=pd.DataFrame({k: data_set[k].values for k in FEATURES}),\n",
    "          y=pd.Series(data_set[LABEL].values),\n",
    "          num_epochs=num_epochs,\n",
    "          shuffle=shuffle)\n",
    "\n",
    "   \n",
    "    return tf.contrib.learn.Experiment(\n",
    "        estimator,\n",
    "        train_input_fn = get_input_fn(training_set,steps=5000,shuffle=True),\n",
    "        eval_input_fn =  get_input_fn(testing_set, num_epochs=1, shuffle=False ),                 \n",
    "        train_steps=hparams.train_steps,  # Minibatch steps\n",
    "        min_eval_frequency=hparams.eval_min_frequency, # Eval frequency\n",
    "        eval_steps=hparams.eval_steps)  # Use evaluation feeder until its empty\n",
    "        #train_monitors=[],  # Hooks for training\n",
    "        #eval_hooks=[eval_input_hook],  # Hooks for evaluation     \n",
    "                \n",
    "                    "
   ]
  },
  {
   "cell_type": "markdown",
   "metadata": {},
   "source": [
    "if __name__ == '__main__':\n",
    "    #run_config = tf.contrib.learn.RunConfig(save_checkpoints_secs = 300,keep_checkpoint_max = 3,model_dir ='./mnist_training')\n",
    "    model_dir = os.path.join(os.path.dirname(os.path.abspath('home')), 'train')\n",
    "    \n",
    "    #run_config = tf.contrib.learn.RunConfig(save_checkpoints_secs = 300,keep_checkpoint_max = 3,model_dir=model_dir)    \n",
    "    run_config = tf.contrib.learn.RunConfig()                                            \n",
    "    #hparams = tf.contrib.training.HParams(learning_rate=0.002,n_classes=10,train_steps=5000,eval_min_frequency=100)                            \n",
    "    hparams = tf.contrib.training.HParams( )  \n",
    "    learn_runner.run(experiment_fn=experiment_fn(), \n",
    "                     run_config = run_config,   \n",
    "                     hparams = hparams,\n",
    "                     schedule= 'train_and_evaluate')"
   ]
  },
  {
   "cell_type": "code",
   "execution_count": null,
   "metadata": {},
   "outputs": [],
   "source": []
  },
  {
   "cell_type": "code",
   "execution_count": null,
   "metadata": {},
   "outputs": [],
   "source": []
  }
 ],
 "metadata": {
  "kernelspec": {
   "display_name": "Python 3",
   "language": "python",
   "name": "python3"
  },
  "language_info": {
   "codemirror_mode": {
    "name": "ipython",
    "version": 3
   },
   "file_extension": ".py",
   "mimetype": "text/x-python",
   "name": "python",
   "nbconvert_exporter": "python",
   "pygments_lexer": "ipython3",
   "version": "3.5.1"
  }
 },
 "nbformat": 4,
 "nbformat_minor": 2
}
